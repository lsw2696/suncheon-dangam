{
  "nbformat": 4,
  "nbformat_minor": 0,
  "metadata": {
    "colab": {
      "provenance": [],
      "authorship_tag": "ABX9TyPPJM9R8mhn5bZ6lDpcxSSk",
      "include_colab_link": true
    },
    "kernelspec": {
      "name": "python3",
      "display_name": "Python 3"
    },
    "language_info": {
      "name": "python"
    }
  },
  "cells": [
    {
      "cell_type": "markdown",
      "metadata": {
        "id": "view-in-github",
        "colab_type": "text"
      },
      "source": [
        "<a href=\"https://colab.research.google.com/github/lsw2696/suncheon-dangam/blob/main/Untitled6.ipynb\" target=\"_parent\"><img src=\"https://colab.research.google.com/assets/colab-badge.svg\" alt=\"Open In Colab\"/></a>"
      ]
    },
    {
      "cell_type": "code",
      "execution_count": 1,
      "metadata": {
        "colab": {
          "base_uri": "https://localhost:8080/"
        },
        "id": "7nYAR_hQhfHz",
        "outputId": "db60458e-145a-461b-c114-f288171177ba"
      },
      "outputs": [
        {
          "output_type": "stream",
          "name": "stdout",
          "text": [
            " * Serving Flask app '__main__'\n",
            " * Debug mode: on\n"
          ]
        },
        {
          "output_type": "stream",
          "name": "stderr",
          "text": [
            "INFO:werkzeug:\u001b[31m\u001b[1mWARNING: This is a development server. Do not use it in a production deployment. Use a production WSGI server instead.\u001b[0m\n",
            " * Running on http://127.0.0.1:5000\n",
            "INFO:werkzeug:\u001b[33mPress CTRL+C to quit\u001b[0m\n",
            "INFO:werkzeug: * Restarting with watchdog (inotify)\n"
          ]
        }
      ],
      "source": [
        "from flask import Flask, request, redirect, url_for\n",
        "import sqlite3, os\n",
        "\n",
        "app = Flask(__name__)\n",
        "\n",
        "# DB 초기화\n",
        "DB_FILE = \"taeha.db\"\n",
        "def init_db():\n",
        "    if not os.path.exists(DB_FILE):\n",
        "        conn = sqlite3.connect(DB_FILE)\n",
        "        c = conn.cursor()\n",
        "        c.execute('''CREATE TABLE IF NOT EXISTS announcements\n",
        "                     (id INTEGER PRIMARY KEY AUTOINCREMENT,\n",
        "                      title TEXT, content TEXT, date TEXT)''')\n",
        "        conn.commit()\n",
        "        conn.close()\n",
        "\n",
        "@app.route('/')\n",
        "def home():\n",
        "    conn = sqlite3.connect(DB_FILE)\n",
        "    c = conn.cursor()\n",
        "    c.execute(\"SELECT * FROM announcements ORDER BY id DESC\")\n",
        "    posts = c.fetchall()\n",
        "    conn.close()\n",
        "\n",
        "    html = \"\"\"\n",
        "    <html lang='ko'><head><meta charset='UTF-8'><title>태하전자 대리점</title>\n",
        "    <link rel='stylesheet' href='https://cdn.tailwindcss.com'></head>\n",
        "    <body class='bg-gray-50 text-gray-800 p-10'>\n",
        "    <h1 class='text-2xl font-bold mb-5'>태하전자 대리점 공지사항</h1>\n",
        "    <a href='/admin' class='bg-blue-700 text-white px-4 py-2 rounded'>관리자 페이지</a><hr class='my-4'>\n",
        "    <ul>\"\"\"\n",
        "    for p in posts:\n",
        "        html += f\"<li class='mb-4 border-b pb-2'><b>{p[1]}</b><br>{p[2]}<br><span class='text-sm text-gray-500'>{p[3]}</span></li>\"\n",
        "    html += \"</ul></body></html>\"\n",
        "    return html\n",
        "\n",
        "@app.route('/admin', methods=['GET', 'POST'])\n",
        "def admin():\n",
        "    if request.method == 'POST':\n",
        "        title = request.form.get('title')\n",
        "        content = request.form.get('content')\n",
        "        conn = sqlite3.connect(DB_FILE)\n",
        "        c = conn.cursor()\n",
        "        c.execute(\"INSERT INTO announcements (title, content, date) VALUES (?, ?, datetime('now','localtime'))\",\n",
        "                  (title, content))\n",
        "        conn.commit()\n",
        "        conn.close()\n",
        "        return redirect(url_for('admin'))\n",
        "\n",
        "    conn = sqlite3.connect(DB_FILE)\n",
        "    c = conn.cursor()\n",
        "    c.execute(\"SELECT * FROM announcements ORDER BY id DESC\")\n",
        "    posts = c.fetchall()\n",
        "    conn.close()\n",
        "\n",
        "    html = \"\"\"\n",
        "    <html lang='ko'><head><meta charset='UTF-8'><title>관리자 페이지</title>\n",
        "    <link rel='stylesheet' href='https://cdn.tailwindcss.com'></head>\n",
        "    <body class='bg-gray-100 text-gray-800 p-10'>\n",
        "    <h1 class='text-2xl font-bold mb-4'>관리자 페이지</h1>\n",
        "    <form method='POST'>\n",
        "      <input name='title' placeholder='제목' required class='border w-full mb-2 px-3 py-2'>\n",
        "      <textarea name='content' placeholder='내용' required class='border w-full mb-2 px-3 py-2'></textarea>\n",
        "      <button class='bg-blue-700 text-white px-4 py-2 rounded'>등록</button>\n",
        "    </form>\n",
        "    <hr class='my-4'>\n",
        "    <table class='w-full bg-white border'>\n",
        "    <tr class='bg-gray-200'><th>ID</th><th>제목</th><th>내용</th><th>날짜</th><th>삭제</th></tr>\n",
        "    \"\"\"\n",
        "    for p in posts:\n",
        "        html += f\"<tr><td>{p[0]}</td><td>{p[1]}</td><td>{p[2]}</td><td>{p[3]}</td><td><a href='/delete/{p[0]}' class='text-red-600'>삭제</a></td></tr>\"\n",
        "    html += \"</table></body></html>\"\n",
        "    return html\n",
        "\n",
        "@app.route('/delete/<int:id>')\n",
        "def delete(id):\n",
        "    conn = sqlite3.connect(DB_FILE)\n",
        "    c = conn.cursor()\n",
        "    c.execute(\"DELETE FROM announcements WHERE id=?\", (id,))\n",
        "    conn.commit()\n",
        "    conn.close()\n",
        "    return redirect(url_for('admin'))\n",
        "\n",
        "if __name__ == '__main__':\n",
        "    init_db()\n",
        "    app.run(debug=True)\n"
      ]
    }
  ]
}